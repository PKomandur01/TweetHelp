{
 "cells": [
  {
   "cell_type": "code",
   "execution_count": null,
   "id": "af998d07-df6a-4ad5-86a5-56116ae2fc86",
   "metadata": {},
   "outputs": [],
   "source": [
    "from flask import Flask, request \n",
    "import requests \n",
    "\n",
    "response = requests.get('http://127.0.0.1:5000/tweets?service-sagemaker')\n",
    "response.text\n",
    "\n",
    "app = flask(_name_) # create the Flask app\n",
    "\n",
    "@app.route('/tweets', methods=['GET'])\n",
    "def index():\n",
    "\n",
    "    #retrieve arguments\n",
    "    args = request.args\n",
    "    print(args)\n",
    "    service = args['service']\n",
    "\n",
    "    #get summary of website url\n",
    "    summary = get_summary(\"http://www.amazon.com/\" + service)\n",
    "    print(summary)\n",
    "\n",
    "    image_name = download_image(generate_image(summary))\n",
    "    print(image_name)\n",
    "\n",
    "    #tweet the image\n",
    "    send_tweet(summary, image_name)\n",
    "\n",
    "    return 'Tweet sent!'\n",
    "\n",
    "    app.run(port=5000) "
   ]
  }
 ],
 "metadata": {
  "kernelspec": {
   "display_name": "Python 3 (ipykernel)",
   "language": "python",
   "name": "python3"
  },
  "language_info": {
   "codemirror_mode": {
    "name": "ipython",
    "version": 3
   },
   "file_extension": ".py",
   "mimetype": "text/x-python",
   "name": "python",
   "nbconvert_exporter": "python",
   "pygments_lexer": "ipython3",
   "version": "3.11.7"
  }
 },
 "nbformat": 4,
 "nbformat_minor": 5
}
